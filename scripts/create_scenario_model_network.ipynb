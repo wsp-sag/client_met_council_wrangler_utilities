{
 "cells": [
  {
   "cell_type": "markdown",
   "metadata": {},
   "source": [
    "#### Basic package & directory settings\n",
    "- network_wrangler branch: [bicounty_ml_connectors](https://github.com/wsp-sag/network_wrangler/tree/bicounty_ml_connectors)\n",
    "- Lasso branch: [bicounty_emme](https://github.com/wsp-sag/Lasso/tree/bicounty_emme)"
   ]
  },
  {
   "cell_type": "code",
   "execution_count": null,
   "metadata": {},
   "outputs": [],
   "source": [
    "import os\n",
    "import sys\n",
    "import yaml\n",
    "import pickle\n",
    "import numpy as np\n",
    "import pandas as pd\n",
    "import geopandas as gpd\n",
    "\n",
    "from network_wrangler import RoadwayNetwork\n",
    "from network_wrangler import TransitNetwork\n",
    "from network_wrangler import ProjectCard\n",
    "from network_wrangler import Scenario\n",
    "from network_wrangler import WranglerLogger\n",
    "from network_wrangler.transitnetwork import DotDict\n",
    "\n",
    "from lasso import ModelRoadwayNetwork\n",
    "from lasso import StandardTransit\n",
    "from lasso import Parameters\n",
    "from lasso import mtc\n",
    "from lasso import util\n",
    "from lasso import bicounty\n",
    "\n",
    "import logging\n",
    "logger = logging.getLogger(\"WranglerLogger\")\n",
    "logger.setLevel(logging.INFO)\n",
    "\n",
    "%load_ext autoreload\n",
    "%autoreload 2"
   ]
  },
  {
   "cell_type": "code",
   "execution_count": null,
   "metadata": {},
   "outputs": [],
   "source": [
    "# TODO: user input\n",
    "scenario_year = 2050\n",
    "\n",
    "data_dir = \"../data/\"\n",
    "lasso_dir = \"../software/Lasso/\"\n",
    "parameters = Parameters(lasso_base_dir = lasso_dir)\n",
    "\n",
    "standard_net_dir = os.path.join(data_dir, 'scenario_files', 'standard_networks', 'version_00')\n",
    "interim_data_dir = os.path.join(data_dir, 'scenario_files', 'interim')\n",
    "project_card_dir = os.path.join(data_dir, 'project_cards')"
   ]
  },
  {
   "cell_type": "markdown",
   "metadata": {},
   "source": [
    "#### Load raw scenario pickle file\n",
    "- this is the scenario pickle file where no project card is applied yet"
   ]
  },
  {
   "cell_type": "code",
   "execution_count": null,
   "metadata": {},
   "outputs": [],
   "source": [
    "pickle_file_name = os.path.join(data_dir, \"scenario_files\", \"scenario_pickle\", \"raw_scenario.pickle\")\n",
    "raw_scenario = pickle.load(open(pickle_file_name, 'rb'))"
   ]
  },
  {
   "cell_type": "code",
   "execution_count": null,
   "metadata": {},
   "outputs": [],
   "source": [
    "with open(f\"{data_dir}/project_card_list.yml\", \"r\") as file:\n",
    "    project_card_info = yaml.safe_load(file)\n",
    "\n",
    "project_cards_lookup = {}\n",
    "project_cards_dir_lookup = {}\n",
    "\n",
    "for i in project_card_info:\n",
    "    card_set_name = i[\"card_set\"]\n",
    "    project_cards_lookup[card_set_name] = i[\"projects\"]\n",
    "    project_cards_dir_lookup[card_set_name] = i[\"card_dir\"]"
   ]
  },
  {
   "cell_type": "code",
   "execution_count": null,
   "metadata": {},
   "outputs": [],
   "source": [
    "# helper function for reading all project cards in the scenario project list\n",
    "def get_project_card_list(\n",
    "    card_set: str,\n",
    "    project_card_dir: str=project_card_dir, \n",
    "    project_cards_lookup: dict=project_cards_lookup,\n",
    "    project_cards_dir_lookup: dict=project_cards_dir_lookup\n",
    "):\n",
    "    # return a list of project card objects\n",
    "    result_project_card_list = []\n",
    "    project_card_name_list = project_cards_lookup[card_set]\n",
    "    for card_name in project_card_name_list:\n",
    "        _filename = os.path.join(project_card_dir, project_cards_dir_lookup[card_set], card_name)\n",
    "        card = ProjectCard.read(_filename, validate=False)\n",
    "        result_project_card_list.append(card)\n",
    "    return result_project_card_list"
   ]
  },
  {
   "cell_type": "markdown",
   "metadata": {},
   "source": [
    "### Apply project cards for different scenario years"
   ]
  },
  {
   "cell_type": "markdown",
   "metadata": {},
   "source": [
    "#### Scenario 2015\n",
    "- create `scenario_2015`\n",
    "- apply project card set `2015_highway`\n",
    "- apply project card set `2015_transit`\n",
    "- add centroid/external connectors\n",
    "- apply project card set `2015_externals`\n",
    "- add pnr connectors\n",
    "- apply project card set `2015_others`\n",
    "- if scenario_year is 2015\n",
    "    - apply project card set `for_2015_only`"
   ]
  },
  {
   "cell_type": "code",
   "execution_count": null,
   "metadata": {},
   "outputs": [],
   "source": [
    "scenario_2015 = Scenario.create_scenario(base_scenario = raw_scenario)"
   ]
  },
  {
   "cell_type": "markdown",
   "metadata": {},
   "source": [
    "##### Apply scenario 2015 highway project cards\n",
    "- These are mtc correction project cards with following tags:\n",
    "  - highway review\n",
    "  - Major Arterial Review\n",
    "  - Reversible Lanes\n",
    "  - Bus Only\n",
    "  - Toll Plaza\n",
    "  - Managed Lanes\n",
    "  - toll review\n",
    "  - Exclude Trucks\n",
    "  - Major Transit links"
   ]
  },
  {
   "cell_type": "code",
   "execution_count": null,
   "metadata": {},
   "outputs": [],
   "source": [
    "card_2015_highway_list = get_project_card_list(card_set=\"2015_highway\")\n",
    "\n",
    "for item in card_2015_highway_list:\n",
    "    scenario_2015.apply_project(item)"
   ]
  },
  {
   "cell_type": "markdown",
   "metadata": {},
   "source": [
    "##### Apply scenario 2015 transit project cards\n",
    "- These are mtc correction project cards with following tags:\n",
    "  - Minor Transit\n",
    "  - Add Transit\n",
    "  - Major Transit\n",
    "  - Toll Plaza Transit"
   ]
  },
  {
   "cell_type": "code",
   "execution_count": null,
   "metadata": {},
   "outputs": [],
   "source": [
    "# set roadnet for transit_net before applying transit project cards\n",
    "scenario_2015.transit_net.set_roadnet(scenario_2015.road_net, validate_consistency = False)\n",
    "\n",
    "card_2015_transit_list = get_project_card_list(card_set=\"2015_transit\")\n",
    "\n",
    "for item in card_2015_transit_list:\n",
    "    scenario_2015.apply_project(item)"
   ]
  },
  {
   "cell_type": "markdown",
   "metadata": {},
   "source": [
    "##### Add centroid/external connectors from standard_networks & apply related project cards"
   ]
  },
  {
   "cell_type": "code",
   "execution_count": null,
   "metadata": {},
   "outputs": [],
   "source": [
    "scenario_2015.road_net = mtc.add_centroid_and_centroid_connector(\n",
    "    roadway_network = scenario_2015.road_net,\n",
    "    parameters = parameters,\n",
    "    centroid_file=os.path.join(standard_net_dir, 'centroid_node.pickle'),\n",
    "    centroid_connector_link_file=os.path.join(standard_net_dir, 'cc_link.pickle'),\n",
    "    centroid_connector_shape_file=os.path.join(standard_net_dir, 'cc_shape.pickle')\n",
    ")"
   ]
  },
  {
   "cell_type": "markdown",
   "metadata": {},
   "source": [
    "##### Apply scenario 2015 externals project cards\n",
    "- These are mtc correction project cards with following tag:\n",
    "  - External Stations Review"
   ]
  },
  {
   "cell_type": "code",
   "execution_count": null,
   "metadata": {},
   "outputs": [],
   "source": [
    "card_2015_externals_list = get_project_card_list(card_set=\"2015_externals\")\n",
    "\n",
    "for item in card_2015_externals_list:\n",
    "    scenario_2015.apply_project(item)"
   ]
  },
  {
   "cell_type": "code",
   "execution_count": null,
   "metadata": {},
   "outputs": [],
   "source": [
    "# add county\n",
    "scenario_2015.road_net = mtc.calculate_county(\n",
    "    roadway_network = scenario_2015.road_net,\n",
    "    parameters = parameters,\n",
    "    network_variable = 'county'\n",
    ")\n",
    "\n",
    "# remove MTC externals in SJ county\n",
    "remove_external_node_list = [900011, 900012, 900013]\n",
    "scenario_2015.road_net.nodes_df = scenario_2015.road_net.nodes_df[\n",
    "    ~(scenario_2015.road_net.nodes_df.model_node_id.isin(remove_external_node_list))\n",
    "]\n",
    "scenario_2015.road_net.links_df = scenario_2015.road_net.links_df[\n",
    "    ~(\n",
    "        (scenario_2015.road_net.links_df.A.isin(remove_external_node_list)) |\n",
    "        (scenario_2015.road_net.links_df.B.isin(remove_external_node_list))\n",
    "    )\n",
    "]\n",
    "scenario_2015.road_net.shapes_df = scenario_2015.road_net.shapes_df[\n",
    "    scenario_2015.road_net.shapes_df.id.isin(\n",
    "        scenario_2015.road_net.links_df.id.tolist())\n",
    "]"
   ]
  },
  {
   "cell_type": "markdown",
   "metadata": {},
   "source": [
    "##### Build PNR connectors"
   ]
  },
  {
   "cell_type": "code",
   "execution_count": null,
   "metadata": {},
   "outputs": [],
   "source": [
    "road_net_with_pnr = bicounty.build_pnr_connections(scenario_2015.road_net, parameters, build_pnr_taz_connector=False)"
   ]
  },
  {
   "cell_type": "code",
   "execution_count": null,
   "metadata": {},
   "outputs": [],
   "source": [
    "# update model node id for pnr\n",
    "node_id_outside_of_cube_cap = road_net_with_pnr.nodes_df[road_net_with_pnr.nodes_df.model_node_id >= 10000000].model_node_id.unique().tolist()\n",
    "\n",
    "node_id_outside_of_cube_cap_dict = dict(\n",
    "    zip(node_id_outside_of_cube_cap, range(5300000, 5300000 + len(node_id_outside_of_cube_cap) + 1))\n",
    ")\n",
    "\n",
    "# replace model node id\n",
    "road_net_with_pnr.nodes_df['model_node_id'] = np.where(\n",
    "    road_net_with_pnr.nodes_df['model_node_id'].isin(node_id_outside_of_cube_cap),\n",
    "    road_net_with_pnr.nodes_df['model_node_id'].map(node_id_outside_of_cube_cap_dict),\n",
    "    road_net_with_pnr.nodes_df['model_node_id']\n",
    ")\n",
    "\n",
    "road_net_with_pnr.links_df['A'] = np.where(\n",
    "    road_net_with_pnr.links_df['A'].isin(node_id_outside_of_cube_cap),\n",
    "    road_net_with_pnr.links_df['A'].map(node_id_outside_of_cube_cap_dict),\n",
    "    road_net_with_pnr.links_df['A']\n",
    ")\n",
    "\n",
    "road_net_with_pnr.links_df['B'] = np.where(\n",
    "    road_net_with_pnr.links_df['B'].isin(node_id_outside_of_cube_cap),\n",
    "    road_net_with_pnr.links_df['B'].map(node_id_outside_of_cube_cap_dict),\n",
    "    road_net_with_pnr.links_df['B']\n",
    ")"
   ]
  },
  {
   "cell_type": "code",
   "execution_count": null,
   "metadata": {},
   "outputs": [],
   "source": [
    "# set extra nodes as pnr\n",
    "road_net_with_pnr.nodes_df.loc[road_net_with_pnr.nodes_df[\"model_node_id\"].isin([2192948, 2625972, 2526973, 2625974, 2625975, 3097285, 3097286]), \"pnr\"] = 1"
   ]
  },
  {
   "cell_type": "code",
   "execution_count": null,
   "metadata": {},
   "outputs": [],
   "source": [
    "# update 2015 scenario using roadway network with pnr\n",
    "scenario_2015 = Scenario.create_scenario(base_scenario= {\"road_net\": road_net_with_pnr, \"transit_net\": scenario_2015.transit_net})"
   ]
  },
  {
   "cell_type": "markdown",
   "metadata": {},
   "source": [
    "##### Apply extra 2015 project cards"
   ]
  },
  {
   "cell_type": "code",
   "execution_count": null,
   "metadata": {},
   "outputs": [],
   "source": [
    "card_2015_extra_list = get_project_card_list(card_set=\"2015_others\")\n",
    "\n",
    "for item in card_2015_extra_list:\n",
    "    scenario_2015.apply_project(item)"
   ]
  },
  {
   "cell_type": "markdown",
   "metadata": {},
   "source": [
    "##### If scenario year = 2015, apply remaining project cards only for 2015\n",
    "- These are managed lane project cards that have different settings from 2020 onward"
   ]
  },
  {
   "cell_type": "code",
   "execution_count": null,
   "metadata": {},
   "outputs": [],
   "source": [
    "if scenario_year == 2015:\n",
    "    card_2015_only_list = get_project_card_list(card_set=\"for_2015_only\")\n",
    "\n",
    "    for item in card_2015_only_list:\n",
    "        scenario_2015.apply_project(item)"
   ]
  },
  {
   "cell_type": "markdown",
   "metadata": {},
   "source": [
    "#### scenario 2020\n",
    "- if scenario_year >= 2020\n",
    "    - create `scenario_2020`\n",
    "    - apply project card set `2020_highway`\n",
    "    - apply project card set `2020_transit`"
   ]
  },
  {
   "cell_type": "code",
   "execution_count": null,
   "metadata": {},
   "outputs": [],
   "source": [
    "if scenario_year >= 2020:\n",
    "    # create scenario 2020\n",
    "    scenario_2020 = Scenario.create_scenario(base_scenario = scenario_2015)\n",
    "\n",
    "    # apply 2020 highway cards\n",
    "    card_2020_highway_list = get_project_card_list(card_set=\"2020_highway\")\n",
    "    for item in card_2020_highway_list:\n",
    "        scenario_2020.apply_project(item)\n",
    "\n",
    "    # apply 2020 transit cards\n",
    "    scenario_2020.transit_net.set_roadnet(scenario_2020.road_net, validate_consistency = False) # set roadnet for transit\n",
    "    card_2020_transit_list = get_project_card_list(card_set=\"2020_transit\")\n",
    "    for item in card_2020_transit_list:\n",
    "        scenario_2020.apply_project(item)"
   ]
  },
  {
   "cell_type": "markdown",
   "metadata": {},
   "source": [
    "#### Scenario 2035 & 2050 - part 1: standard format highway project cards\n",
    "- if scenario_year >= 2035\n",
    "  - apply project card set `2035_standard_format`\n",
    "- if scenario_year is 2050\n",
    "  - apply project card set `2050_standard_format`"
   ]
  },
  {
   "cell_type": "code",
   "execution_count": null,
   "metadata": {},
   "outputs": [],
   "source": [
    "if scenario_year >= 2035:\n",
    "    # create scenario 2035\n",
    "    scenario_2035 = Scenario.create_scenario(base_scenario = scenario_2020)\n",
    "\n",
    "    # apply 2035 highway cards (standard format)\n",
    "    card_2035_standard_highway_list = get_project_card_list(card_set=\"2035_standard_format\")\n",
    "    for item in card_2035_standard_highway_list:\n",
    "        scenario_2035.apply_project(item)"
   ]
  },
  {
   "cell_type": "code",
   "execution_count": null,
   "metadata": {},
   "outputs": [],
   "source": [
    "if scenario_year == 2050:\n",
    "    # create scenario 2050\n",
    "    scenario_2050 = Scenario.create_scenario(base_scenario = scenario_2035)\n",
    "\n",
    "    # apply 2050 highway cards (standard format)\n",
    "    card_2050_standard_highway_list = get_project_card_list(card_set=\"2050_standard_format\")\n",
    "    for item in card_2050_standard_highway_list:\n",
    "        scenario_2050.apply_project(item)"
   ]
  },
  {
   "cell_type": "markdown",
   "metadata": {},
   "source": [
    "#### Convert to model network format"
   ]
  },
  {
   "cell_type": "code",
   "execution_count": null,
   "metadata": {},
   "outputs": [],
   "source": [
    "if scenario_year == 2015:\n",
    "    curr_scenario = scenario_2015\n",
    "elif scenario_year == 2020:\n",
    "    curr_scenario = scenario_2020\n",
    "elif scenario_year == 2035:\n",
    "    curr_scenario = scenario_2035\n",
    "else: # scenario_year == 2050\n",
    "    curr_scenario = scenario_2050"
   ]
  },
  {
   "cell_type": "code",
   "execution_count": null,
   "metadata": {},
   "outputs": [],
   "source": [
    "model_roadway_net = ModelRoadwayNetwork.from_RoadwayNetwork(\n",
    "    roadway_network_object = curr_scenario.road_net, \n",
    "    parameters = parameters\n",
    ")"
   ]
  },
  {
   "cell_type": "code",
   "execution_count": null,
   "metadata": {},
   "outputs": [],
   "source": [
    "# extra step to shorten the \"name\" field\n",
    "model_roadway_net.links_df['name'] = model_roadway_net.links_df['name'].apply(lambda x: \"\" if type(x) == int else x)\n",
    "model_roadway_net.links_df['name'] = model_roadway_net.links_df['name'].apply(lambda x: util.shorten_name(x))"
   ]
  },
  {
   "cell_type": "code",
   "execution_count": null,
   "metadata": {},
   "outputs": [],
   "source": [
    "# convert to model network format\n",
    "# all managed lane parallel links and time period attributes are created in this step\n",
    "model_net = mtc.roadway_standard_to_mtc_network(model_roadway_net, parameters=parameters)"
   ]
  },
  {
   "cell_type": "code",
   "execution_count": null,
   "metadata": {},
   "outputs": [],
   "source": [
    "# One link in the network has a null geometry. Deleting it and adding it back again with a diferent project card\n",
    "model_net.links_mtc_df=model_net.links_mtc_df[model_net.links_mtc_df['geometry'].notnull()]"
   ]
  },
  {
   "cell_type": "code",
   "execution_count": null,
   "metadata": {},
   "outputs": [],
   "source": [
    "# extra step to shorten the \"name\" field\n",
    "model_net.links_mtc_df['name'] = model_net.links_mtc_df['name'].apply(lambda x: \"\" if type(x) == int else x)\n",
    "model_net.links_mtc_df['name'] = model_net.links_mtc_df['name'].apply(lambda x: util.shorten_name(x))"
   ]
  },
  {
   "cell_type": "markdown",
   "metadata": {},
   "source": [
    "#### Scenario 2035 & 2050 - part 2: model network format highway project cards & transit project cards\n",
    "- if scenario_year is 2035\n",
    "    - apply project card set `2035_model_net_format`\n",
    "    - apply project card set `2035_transit`\n",
    "- if scenario_year is 2050\n",
    "    - apply project card set `2035_model_net_format`\n",
    "    - apply project card set `2050_model_net_format`\n",
    "    - apply project card set `2035_transit`\n",
    "    - apply project card set `2050_transit`"
   ]
  },
  {
   "cell_type": "code",
   "execution_count": null,
   "metadata": {},
   "outputs": [],
   "source": [
    "# update curr_scenario so that extra project cards can be applied further\n",
    "if scenario_year >= 2035:\n",
    "    # update links_df and nodes_df in curr_scenario\n",
    "    curr_scenario.road_net.links_df = model_net.links_mtc_df.copy()\n",
    "    curr_scenario.road_net.nodes_df = model_net.nodes_mtc_df.copy()\n",
    "\n",
    "    # also set \"model_node_id\" be \"N\"\n",
    "    curr_scenario.road_net.nodes_df['model_node_id'] = curr_scenario.road_net.nodes_df['N']\n",
    "\n",
    "    # set gdf\n",
    "    curr_scenario.road_net.links_df = gpd.GeoDataFrame(curr_scenario.road_net.links_df, geometry=curr_scenario.road_net.links_df.geometry)\n",
    "    curr_scenario.road_net.nodes_df = gpd.GeoDataFrame(curr_scenario.road_net.nodes_df, geometry=curr_scenario.road_net.nodes_df.geometry)"
   ]
  },
  {
   "cell_type": "code",
   "execution_count": null,
   "metadata": {},
   "outputs": [],
   "source": [
    "if scenario_year == 2035:\n",
    "    # apply 2035 highway cards (model network format)\n",
    "    card_2035_model_net_highway_list = get_project_card_list(card_set=\"2035_model_net_format\")\n",
    "    for item in card_2035_model_net_highway_list:\n",
    "        curr_scenario.apply_project(item)\n",
    "\n",
    "    # other special treatment\n",
    "    # TODO: copied from previous notebooks, but should consider removing this part\n",
    "    curr_scenario.road_net.links_df['model_link_id'] = np.where((curr_scenario.road_net.links_df['A']==1511000)&(curr_scenario.road_net.links_df['B']==6011000),\n",
    "                                                                curr_scenario.road_net.links_df['model_link_id'].max()+1,\n",
    "                                                                curr_scenario.road_net.links_df['model_link_id'])\n",
    "\n",
    "    curr_scenario.road_net.links_df['model_link_id'] = np.where((curr_scenario.road_net.links_df['A']==3031452)&(curr_scenario.road_net.links_df['B']==3078980),\n",
    "                                                                curr_scenario.road_net.links_df['model_link_id'].max()+1,\n",
    "                                                                curr_scenario.road_net.links_df['model_link_id'])\n",
    "\n",
    "    # apply 2035 transit cards\n",
    "    curr_scenario.transit_net.set_roadnet(curr_scenario.road_net, validate_consistency = False) # set roadnet for transit\n",
    "    card_2035_transit_list = get_project_card_list(card_set=\"2035_transit\")\n",
    "    for item in card_2035_transit_list:\n",
    "        curr_scenario.apply_project(item)"
   ]
  },
  {
   "cell_type": "code",
   "execution_count": null,
   "metadata": {},
   "outputs": [],
   "source": [
    "if scenario_year == 2050:\n",
    "    # apply 2035 highway cards (model network format)\n",
    "    card_2035_model_net_highway_list = get_project_card_list(card_set=\"2035_model_net_format\")\n",
    "    for item in card_2035_model_net_highway_list:\n",
    "        curr_scenario.apply_project(item)    \n",
    "\n",
    "    # apply 2050 highway cards (model network format)\n",
    "    card_2050_model_net_highway_list = get_project_card_list(card_set=\"2050_model_net_format\")\n",
    "    for item in card_2050_model_net_highway_list:\n",
    "        curr_scenario.apply_project(item)    \n",
    "\n",
    "    # other special treatment\n",
    "    # TODO: copied from previous notebooks, but should consider removing this part\n",
    "    curr_scenario.road_net.links_df['model_link_id'] = np.where((curr_scenario.road_net.links_df['A']==1511000)&(curr_scenario.road_net.links_df['B']==6011000),\n",
    "                                                                curr_scenario.road_net.links_df['model_link_id'].max()+1,\n",
    "                                                                curr_scenario.road_net.links_df['model_link_id'])\n",
    "\n",
    "    curr_scenario.road_net.links_df['model_link_id'] = np.where((curr_scenario.road_net.links_df['A']==3031452)&(curr_scenario.road_net.links_df['B']==3078980),\n",
    "                                                                curr_scenario.road_net.links_df['model_link_id'].max()+1,\n",
    "                                                                curr_scenario.road_net.links_df['model_link_id'])\n",
    "\n",
    "    # apply 2035 transit cards\n",
    "    curr_scenario.transit_net.set_roadnet(curr_scenario.road_net, validate_consistency = False) # set roadnet for transit\n",
    "    card_2035_transit_list = get_project_card_list(card_set=\"2035_transit\")\n",
    "    for item in card_2035_transit_list:\n",
    "        curr_scenario.apply_project(item)\n",
    "\n",
    "    # apply 2050 transit cards\n",
    "    card_2050_transit_list = get_project_card_list(card_set=\"2050_transit\")\n",
    "    for item in card_2050_transit_list:\n",
    "        curr_scenario.apply_project(item)"
   ]
  },
  {
   "cell_type": "markdown",
   "metadata": {},
   "source": [
    "### Export results"
   ]
  },
  {
   "cell_type": "markdown",
   "metadata": {},
   "source": [
    "#### Add `BRT` attribute if it's not in roadway links (specifically for 2015)\n",
    "- the first project card that has `BRT` field is in 2020, but this field is required for all model years"
   ]
  },
  {
   "cell_type": "code",
   "execution_count": null,
   "metadata": {},
   "outputs": [],
   "source": [
    "if \"BRT\" not in model_net.links_mtc_df.columns:\n",
    "    print(\"add BRT placeholder field\")\n",
    "    model_net.links_mtc_df[\"BRT\"] = 0"
   ]
  },
  {
   "cell_type": "markdown",
   "metadata": {},
   "source": [
    "#### Write out result to scenario pickle file (2015 & 2020)"
   ]
  },
  {
   "cell_type": "code",
   "execution_count": null,
   "metadata": {},
   "outputs": [],
   "source": [
    "# note: for 2035 and 2050, the scenario file is already in model network format, so only write out scenario pickle for 2015 & 2020\n",
    "if scenario_year <= 2020:\n",
    "    if scenario_year == 2015:\n",
    "        result_scenario = scenario_2015\n",
    "    else:\n",
    "        result_scenario = scenario_2020\n",
    "\n",
    "    scenario_filename = os.path.join(data_dir, 'scenario_files', 'scenario_pickle', f'scenario_{scenario_year}.pickle')\n",
    "    pickle.dump(result_scenario, open(scenario_filename, 'wb'))"
   ]
  },
  {
   "cell_type": "markdown",
   "metadata": {},
   "source": [
    "#### Write out Cube transit network\n",
    "- note: writing out cube transit.lin requires [faresystem_crosswalk.txt](https://github.com/wsp-sag/Lasso/blob/bicounty_emme/mtc_data/lookups/faresystem_crosswalk.txt) in the output directory"
   ]
  },
  {
   "cell_type": "code",
   "execution_count": null,
   "metadata": {},
   "outputs": [],
   "source": [
    "# update transit net\n",
    "curr_scenario.update_transit_net_with_new_road_net()"
   ]
  },
  {
   "cell_type": "code",
   "execution_count": null,
   "metadata": {},
   "outputs": [],
   "source": [
    "# write out cube transit net\n",
    "standard_transit_net = StandardTransit.fromTransitNetwork(curr_scenario.transit_net, parameters=parameters)\n",
    "mtc.write_as_cube_lin(standard_transit_net, parameters, outpath = os.path.join(data_dir, 'scenario_files', 'model_networks', f\"{scenario_year}\", 'trn', \"transit.lin\"))"
   ]
  },
  {
   "cell_type": "markdown",
   "metadata": {},
   "source": [
    "#### Read the `transit.lin` written out in the previous step and add the `has_transit` attribute to the highway network"
   ]
  },
  {
   "cell_type": "code",
   "execution_count": null,
   "metadata": {},
   "outputs": [],
   "source": [
    "# collect all transit links from parsing through transit.lin file\n",
    "transit_file = os.path.join(data_dir, 'scenario_files', 'model_networks', f\"{scenario_year}\", 'trn', \"transit.lin\")\n",
    "# gather network links by parsing through the node sequences in transit.lin\n",
    "with open(transit_file, \"r\") as f:\n",
    "    lines = f.readlines()\n",
    "\n",
    "    all_line_links = pd.DataFrame()\n",
    "    curr_line = None\n",
    "    line_node_seq = None\n",
    "\n",
    "    for txt in lines:\n",
    "        if txt.startswith(\"LINE NAME=\"):\n",
    "            # print (txt.split(\"=\")[1])\n",
    "            # store the current line name\n",
    "            curr_line = txt.split(\"\\\"\")[1]\n",
    "            # reset line_node_seq as an empty list\n",
    "            line_node_seq = []\n",
    "\n",
    "        # add to node sequence if the first item of txt after split by \",\" and remove whitespace is digit\n",
    "        # if txt.strip().split(\",\")[0].replace(\" \", \"\").replace(\"-\", \"\").isdigit():\n",
    "        if txt.strip().split(\",\")[0].replace(\"-\", \"\").isdigit():\n",
    "            node = int(txt.strip().split(\",\")[0].replace(\"-\", \"\"))\n",
    "            line_node_seq.append(node)\n",
    "\n",
    "        if curr_line and txt == \"\\n\":\n",
    "            print(f\"processed line: {curr_line}\")\n",
    "            # convert previous line_node_seq into df\n",
    "            line_links = pd.DataFrame({\"line\": curr_line, \"A\": line_node_seq[:-1], \"B\": line_node_seq[1:]})\n",
    "            # add to all_line_links\n",
    "            all_line_links = pd.concat([all_line_links, line_links]).reset_index(drop=True)\n",
    "\n",
    "all_line_links[\"A\"] = all_line_links[\"A\"].astype(int)\n",
    "all_line_links[\"B\"] = all_line_links[\"B\"].astype(int)\n",
    "all_line_links = all_line_links.drop_duplicates(['A','B'])\n",
    "all_line_links['has_transit'] = 1"
   ]
  },
  {
   "cell_type": "code",
   "execution_count": null,
   "metadata": {},
   "outputs": [],
   "source": [
    "if scenario_year >= 2035:\n",
    "    # add `has_transit` attribute to scenario roadway network\n",
    "    has_transit = pd.merge(all_line_links, curr_scenario.road_net.links_df[['A','B','model_link_id']])\n",
    "    curr_scenario.road_net.links_df['has_transit'] = curr_scenario.road_net.links_df['model_link_id'].map(dict(zip(has_transit['model_link_id'],has_transit['has_transit']))).fillna(0)\n",
    "else: # scenario_year = 2015 or 2020\n",
    "    # add `has_transit` attribute to model_net\n",
    "    has_transit = pd.merge(all_line_links, model_net.links_mtc_df[['A','B','model_link_id']])\n",
    "    model_net.links_mtc_df['has_transit'] = model_net.links_mtc_df['model_link_id'].map(dict(zip(has_transit['model_link_id'],has_transit['has_transit']))).fillna(0)"
   ]
  },
  {
   "cell_type": "markdown",
   "metadata": {},
   "source": [
    "#### Write out Cube highway network"
   ]
  },
  {
   "cell_type": "code",
   "execution_count": null,
   "metadata": {},
   "outputs": [],
   "source": [
    "if scenario_year >= 2035:\n",
    "    # `nodes_mtc_df` and `links_mtc_df` are the gdfs that will be written out to cube network\n",
    "    model_net_updated = ModelRoadwayNetwork.from_RoadwayNetwork(\n",
    "        roadway_network_object = curr_scenario.road_net, \n",
    "        parameters = parameters\n",
    "    )\n",
    "else:\n",
    "    model_net_updated = model_net\n",
    "\n",
    "model_net_updated = mtc.calculate_farezone(\n",
    "    roadway_network = model_net_updated,\n",
    "    transit_network = curr_scenario.transit_net,\n",
    "    parameters = parameters,\n",
    "    network_variable = 'farezone',\n",
    "    overwrite = True,\n",
    ")\n",
    "\n",
    "if scenario_year >= 2035:\n",
    "    model_net_updated.nodes_mtc_df = model_net_updated.nodes_df.copy()\n",
    "    model_net_updated.links_mtc_df = model_net_updated.links_df.copy()"
   ]
  },
  {
   "cell_type": "code",
   "execution_count": null,
   "metadata": {},
   "outputs": [],
   "source": [
    "# extra step to shorten the \"name\" field\n",
    "model_net_updated.links_mtc_df['name'] = model_net_updated.links_mtc_df['name'].apply(lambda x: \"\" if type(x) == int else x)\n",
    "model_net_updated.links_mtc_df['name'] = model_net_updated.links_mtc_df['name'].apply(lambda x: util.shorten_name(x))\n",
    "\n",
    "model_net_updated.write_roadway_as_fixedwidth(\n",
    "    output_dir = os.path.join(data_dir, 'scenario_files', 'model_networks', f\"{scenario_year}\", 'hwy'),\n",
    "    output_link_txt = 'links.txt',\n",
    "    output_node_txt = 'nodes.txt',\n",
    "    output_link_header_width_txt = 'links_header_width.txt',\n",
    "    output_node_header_width_txt = 'nodes_header_width.txt',\n",
    "    output_cube_network_script = 'make_complete_network_from_fixed_width_file.s',\n",
    "    output_cube_network_name = 'complete_network_with_externals.net'\n",
    "    #drive_only = True\n",
    ")"
   ]
  },
  {
   "cell_type": "markdown",
   "metadata": {},
   "source": [
    "#### Write out link true-shape shapefile"
   ]
  },
  {
   "cell_type": "code",
   "execution_count": null,
   "metadata": {},
   "outputs": [],
   "source": [
    "model_net_updated.links_mtc_df[[\n",
    "    'A', 'B', 'model_link_id', 'distance',\n",
    "    'name', 'roadway', 'county', 'cntype',\n",
    "    'ft', 'assignable',\n",
    "    'drive_access', 'walk_access', \n",
    "    'rail_only', 'bus_only', 'transit', 'nmt2010','nmt2020',\n",
    "    'lanes_EA', 'lanes_AM', 'lanes_MD', 'lanes_PM', 'lanes_EV',\n",
    "    'managed', 'tollbooth', 'tollseg', \n",
    "    'useclass_AM', 'useclass_EA', 'useclass_EV', 'useclass_MD', 'useclass_PM', \n",
    "    'BRT', 'has_transit',\n",
    "    'geometry'\n",
    "]].to_file(os.path.join(data_dir, 'scenario_files', 'model_networks', f\"{scenario_year}\", 'hwy', f\"complete_network_{scenario_year}.shp\"))"
   ]
  }
 ],
 "metadata": {
  "kernelspec": {
   "display_name": "Python 3.7.16 ('bicounty')",
   "language": "python",
   "name": "python3"
  },
  "language_info": {
   "codemirror_mode": {
    "name": "ipython",
    "version": 3
   },
   "file_extension": ".py",
   "mimetype": "text/x-python",
   "name": "python",
   "nbconvert_exporter": "python",
   "pygments_lexer": "ipython3",
   "version": "3.7.16"
  },
  "orig_nbformat": 4,
  "vscode": {
   "interpreter": {
    "hash": "7225e152711e49442cd16174a5d5e612ea7e54f29a46cec093ae0f7eaf0d12ad"
   }
  }
 },
 "nbformat": 4,
 "nbformat_minor": 2
}
