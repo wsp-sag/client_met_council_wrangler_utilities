{
 "cells": [
  {
   "cell_type": "markdown",
   "metadata": {},
   "source": [
    "#### Notebook description\n",
    "- this notebooks creates a raw scenario (where no project cards are applied) from standard network files\n",
    "\n",
    "#### Basic package & directory settings\n",
    "- network_wrangler branch: [bicounty_ml_connectors](https://github.com/wsp-sag/network_wrangler/tree/bicounty_ml_connectors)\n",
    "- Lasso branch: [bicounty_emme](https://github.com/wsp-sag/Lasso/tree/bicounty_emme)"
   ]
  },
  {
   "cell_type": "code",
   "execution_count": null,
   "metadata": {},
   "outputs": [],
   "source": [
    "import os\n",
    "import sys\n",
    "import yaml\n",
    "import pickle\n",
    "import numpy as np\n",
    "import pandas as pd\n",
    "import geopandas as gpd\n",
    "\n",
    "from network_wrangler import RoadwayNetwork\n",
    "from network_wrangler import TransitNetwork\n",
    "from network_wrangler import ProjectCard\n",
    "from network_wrangler import Scenario\n",
    "from network_wrangler import WranglerLogger\n",
    "from network_wrangler.transitnetwork import DotDict\n",
    "\n",
    "from lasso import ModelRoadwayNetwork\n",
    "from lasso import StandardTransit\n",
    "from lasso import Parameters\n",
    "from lasso import mtc\n",
    "from lasso import util\n",
    "from lasso import bicounty\n",
    "\n",
    "import logging\n",
    "logger = logging.getLogger(\"WranglerLogger\")\n",
    "logger.setLevel(logging.INFO)\n",
    "\n",
    "%load_ext autoreload\n",
    "%autoreload 2"
   ]
  },
  {
   "cell_type": "code",
   "execution_count": null,
   "metadata": {},
   "outputs": [],
   "source": [
    "data_dir = \"../data/\"\n",
    "lasso_dir = \"../software/Lasso/\"\n",
    "parameters = Parameters(lasso_base_dir = lasso_dir)\n",
    "\n",
    "standard_net_dir = f\"{data_dir}/scenario_files/standard_networks/version_00\"\n",
    "interim_data_dir = f\"{data_dir}/scenario_files/interim/\""
   ]
  },
  {
   "cell_type": "markdown",
   "metadata": {},
   "source": [
    "#### Load version00 standard network"
   ]
  },
  {
   "cell_type": "code",
   "execution_count": null,
   "metadata": {},
   "outputs": [],
   "source": [
    "link_file = os.path.join(standard_net_dir, 'step8_links.json')\n",
    "node_file = os.path.join(standard_net_dir, 'step8_nodes.geojson')\n",
    "shape_file = os.path.join(standard_net_dir, 'step8_shapes.geojson')\n",
    "\n",
    "roadway_net = RoadwayNetwork.read(\n",
    "    link_filename = link_file, \n",
    "    node_filename = node_file, \n",
    "    shape_filename = shape_file\n",
    ")\n",
    "# time: 5.5 min"
   ]
  },
  {
   "cell_type": "code",
   "execution_count": null,
   "metadata": {},
   "outputs": [],
   "source": [
    "transit_net = TransitNetwork.read(feed_path = os.path.join(standard_net_dir, 'transit'))"
   ]
  },
  {
   "cell_type": "markdown",
   "metadata": {},
   "source": [
    "#### calculate network attributes"
   ]
  },
  {
   "cell_type": "code",
   "execution_count": null,
   "metadata": {},
   "outputs": [],
   "source": [
    "r_net = mtc.determine_number_of_lanes(\n",
    "    roadway_network = roadway_net,\n",
    "    parameters=parameters,\n",
    "    sj_osm_lanes_attributes = os.path.join(interim_data_dir, 'interim_version_01', 'osm_lanes.csv'),\n",
    "    sjmodel_lanes_file = os.path.join(interim_data_dir, 'interim_version_01', 'sjmodel_legacy_lanes.csv'),\n",
    "    ccta_lanes_file = os.path.join(interim_data_dir, 'interim_version_02', 'cctamodel_legacy_lanes.csv'),\n",
    "    actc_lanes_file = os.path.join(interim_data_dir, 'interim_version_02', 'actcmodel_legacy_lanes.csv'),\n",
    "    network_variable = 'lanes'\n",
    ")\n",
    "r_net.links_df.lanes.value_counts()\n",
    "# time: 5 min"
   ]
  },
  {
   "cell_type": "code",
   "execution_count": null,
   "metadata": {},
   "outputs": [],
   "source": [
    "r_net = mtc.calculate_facility_type(\n",
    "    roadway_network = r_net,\n",
    "    parameters = parameters,\n",
    "    network_variable = 'ft'\n",
    ")\n",
    "r_net.links_df.ft.value_counts()\n",
    "# time: 2 min"
   ]
  },
  {
   "cell_type": "code",
   "execution_count": null,
   "metadata": {},
   "outputs": [],
   "source": [
    "r_net = mtc.calculate_useclass(\n",
    "    roadway_network = r_net,\n",
    "    parameters = parameters,\n",
    "    network_variable = 'useclass'\n",
    ")\n",
    "r_net.links_df.useclass.value_counts()"
   ]
  },
  {
   "cell_type": "code",
   "execution_count": null,
   "metadata": {},
   "outputs": [],
   "source": [
    "r_net = mtc.calculate_assignable(\n",
    "    roadway_network = r_net,\n",
    "    parameters = parameters,\n",
    "    network_variable = 'assignable'\n",
    ")\n",
    "r_net.links_df['assignable'] = np.where(\n",
    "    (r_net.links_df.drive_access == 1) & (r_net.links_df.roadway != 'service') & (r_net.links_df.county == 'San Joaquin'),\n",
    "    1,\n",
    "    r_net.links_df['assignable']\n",
    ")\n",
    "r_net.links_df['assignable'].value_counts()"
   ]
  },
  {
   "cell_type": "code",
   "execution_count": null,
   "metadata": {},
   "outputs": [],
   "source": [
    "r_net = mtc.calculate_transit(\n",
    "    roadway_network = r_net,\n",
    "    parameters = parameters,\n",
    "    network_variable = 'transit'\n",
    ")\n",
    "r_net.links_df.transit.value_counts()"
   ]
  },
  {
   "cell_type": "code",
   "execution_count": null,
   "metadata": {},
   "outputs": [],
   "source": [
    "r_net = mtc.calculate_farezone(\n",
    "    roadway_network = r_net,\n",
    "    transit_network = transit_net,\n",
    "    parameters = parameters,\n",
    "    network_variable = 'farezone',\n",
    ")\n",
    "r_net.nodes_df.farezone.value_counts()"
   ]
  },
  {
   "cell_type": "code",
   "execution_count": null,
   "metadata": {},
   "outputs": [],
   "source": [
    "r_net = mtc.calculate_bike(\n",
    "    roadway_network = r_net,\n",
    "    parameters = parameters,\n",
    "    actc_bike_file = os.path.join(interim_data_dir, 'interim_version_02', 'actcmodel_legacy_bike.csv'),\n",
    ")\n",
    "r_net.links_df.nmt2010.value_counts(dropna=False)\n",
    "# time: 1 min"
   ]
  },
  {
   "cell_type": "markdown",
   "metadata": {},
   "source": [
    "#### create scenario 00"
   ]
  },
  {
   "cell_type": "code",
   "execution_count": null,
   "metadata": {},
   "outputs": [],
   "source": [
    "curr_scenario = Scenario.create_scenario(\n",
    "    base_scenario = {\"road_net\": r_net, \"transit_net\": transit_net}\n",
    ")\n",
    "\n",
    "curr_scenario.road_net.links_df[\"id\"] = curr_scenario.road_net.links_df[\"shstGeometryId\"]\n",
    "curr_scenario.road_net.links_df.drop('length',axis = 1, inplace = True)\n",
    "\n",
    "version_00_scenario_filename = os.path.join(data_dir, 'scenario_files', 'scenario_pickle', 'raw_scenario.pickle')\n",
    "pickle.dump(curr_scenario, open(version_00_scenario_filename, 'wb'))\n",
    "# time: 1 min"
   ]
  },
  {
   "cell_type": "code",
   "execution_count": null,
   "metadata": {},
   "outputs": [],
   "source": [
    "print(len(curr_scenario.road_net.links_df))\n",
    "print(len(curr_scenario.road_net.nodes_df))"
   ]
  },
  {
   "cell_type": "code",
   "execution_count": null,
   "metadata": {},
   "outputs": [],
   "source": [
    "pd.crosstab(curr_scenario.road_net.links_df.ft, curr_scenario.road_net.links_df.roadway)"
   ]
  }
 ],
 "metadata": {
  "kernelspec": {
   "display_name": "Python 3.7.16 ('bicounty')",
   "language": "python",
   "name": "python3"
  },
  "language_info": {
   "codemirror_mode": {
    "name": "ipython",
    "version": 3
   },
   "file_extension": ".py",
   "mimetype": "text/x-python",
   "name": "python",
   "nbconvert_exporter": "python",
   "pygments_lexer": "ipython3",
   "version": "3.7.16"
  },
  "orig_nbformat": 4,
  "vscode": {
   "interpreter": {
    "hash": "7225e152711e49442cd16174a5d5e612ea7e54f29a46cec093ae0f7eaf0d12ad"
   }
  }
 },
 "nbformat": 4,
 "nbformat_minor": 2
}
